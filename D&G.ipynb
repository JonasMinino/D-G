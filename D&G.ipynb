{
 "cells": [
  {
   "cell_type": "markdown",
   "id": "8021c617-8640-4cee-bdd3-e7a2771eb16c",
   "metadata": {},
   "source": [
    "Import the libraries"
   ]
  },
  {
   "cell_type": "code",
   "execution_count": 2,
   "id": "5129bfdc-2c5e-4223-817e-d9f78802400d",
   "metadata": {},
   "outputs": [
    {
     "name": "stdout",
     "output_type": "stream",
     "text": [
      "Requirement already satisfied: openai in c:\\users\\jonas\\anaconda3\\lib\\site-packages (1.55.0)\n",
      "Requirement already satisfied: anyio<5,>=3.5.0 in c:\\users\\jonas\\anaconda3\\lib\\site-packages (from openai) (4.2.0)\n",
      "Requirement already satisfied: distro<2,>=1.7.0 in c:\\users\\jonas\\anaconda3\\lib\\site-packages (from openai) (1.9.0)\n",
      "Requirement already satisfied: httpx<1,>=0.23.0 in c:\\users\\jonas\\anaconda3\\lib\\site-packages (from openai) (0.27.0)\n",
      "Requirement already satisfied: jiter<1,>=0.4.0 in c:\\users\\jonas\\anaconda3\\lib\\site-packages (from openai) (0.7.1)\n",
      "Requirement already satisfied: pydantic<3,>=1.9.0 in c:\\users\\jonas\\anaconda3\\lib\\site-packages (from openai) (2.8.2)\n",
      "Requirement already satisfied: sniffio in c:\\users\\jonas\\anaconda3\\lib\\site-packages (from openai) (1.3.0)\n",
      "Requirement already satisfied: tqdm>4 in c:\\users\\jonas\\anaconda3\\lib\\site-packages (from openai) (4.66.5)\n",
      "Requirement already satisfied: typing-extensions<5,>=4.11 in c:\\users\\jonas\\anaconda3\\lib\\site-packages (from openai) (4.11.0)\n",
      "Requirement already satisfied: idna>=2.8 in c:\\users\\jonas\\anaconda3\\lib\\site-packages (from anyio<5,>=3.5.0->openai) (3.7)\n",
      "Requirement already satisfied: certifi in c:\\users\\jonas\\anaconda3\\lib\\site-packages (from httpx<1,>=0.23.0->openai) (2024.8.30)\n",
      "Requirement already satisfied: httpcore==1.* in c:\\users\\jonas\\anaconda3\\lib\\site-packages (from httpx<1,>=0.23.0->openai) (1.0.2)\n",
      "Requirement already satisfied: h11<0.15,>=0.13 in c:\\users\\jonas\\anaconda3\\lib\\site-packages (from httpcore==1.*->httpx<1,>=0.23.0->openai) (0.14.0)\n",
      "Requirement already satisfied: annotated-types>=0.4.0 in c:\\users\\jonas\\anaconda3\\lib\\site-packages (from pydantic<3,>=1.9.0->openai) (0.6.0)\n",
      "Requirement already satisfied: pydantic-core==2.20.1 in c:\\users\\jonas\\anaconda3\\lib\\site-packages (from pydantic<3,>=1.9.0->openai) (2.20.1)\n",
      "Requirement already satisfied: colorama in c:\\users\\jonas\\anaconda3\\lib\\site-packages (from tqdm>4->openai) (0.4.6)\n",
      "Requirement already satisfied: anthropic in c:\\users\\jonas\\anaconda3\\lib\\site-packages (0.39.0)\n",
      "Requirement already satisfied: anyio<5,>=3.5.0 in c:\\users\\jonas\\anaconda3\\lib\\site-packages (from anthropic) (4.2.0)\n",
      "Requirement already satisfied: distro<2,>=1.7.0 in c:\\users\\jonas\\anaconda3\\lib\\site-packages (from anthropic) (1.9.0)\n",
      "Requirement already satisfied: httpx<1,>=0.23.0 in c:\\users\\jonas\\anaconda3\\lib\\site-packages (from anthropic) (0.27.0)\n",
      "Requirement already satisfied: jiter<1,>=0.4.0 in c:\\users\\jonas\\anaconda3\\lib\\site-packages (from anthropic) (0.7.1)\n",
      "Requirement already satisfied: pydantic<3,>=1.9.0 in c:\\users\\jonas\\anaconda3\\lib\\site-packages (from anthropic) (2.8.2)\n",
      "Requirement already satisfied: sniffio in c:\\users\\jonas\\anaconda3\\lib\\site-packages (from anthropic) (1.3.0)\n",
      "Requirement already satisfied: typing-extensions<5,>=4.7 in c:\\users\\jonas\\anaconda3\\lib\\site-packages (from anthropic) (4.11.0)\n",
      "Requirement already satisfied: idna>=2.8 in c:\\users\\jonas\\anaconda3\\lib\\site-packages (from anyio<5,>=3.5.0->anthropic) (3.7)\n",
      "Requirement already satisfied: certifi in c:\\users\\jonas\\anaconda3\\lib\\site-packages (from httpx<1,>=0.23.0->anthropic) (2024.8.30)\n",
      "Requirement already satisfied: httpcore==1.* in c:\\users\\jonas\\anaconda3\\lib\\site-packages (from httpx<1,>=0.23.0->anthropic) (1.0.2)\n",
      "Requirement already satisfied: h11<0.15,>=0.13 in c:\\users\\jonas\\anaconda3\\lib\\site-packages (from httpcore==1.*->httpx<1,>=0.23.0->anthropic) (0.14.0)\n",
      "Requirement already satisfied: annotated-types>=0.4.0 in c:\\users\\jonas\\anaconda3\\lib\\site-packages (from pydantic<3,>=1.9.0->anthropic) (0.6.0)\n",
      "Requirement already satisfied: pydantic-core==2.20.1 in c:\\users\\jonas\\anaconda3\\lib\\site-packages (from pydantic<3,>=1.9.0->anthropic) (2.20.1)\n",
      "Requirement already satisfied: google-generativeai in c:\\users\\jonas\\anaconda3\\lib\\site-packages (0.8.3)\n",
      "Requirement already satisfied: google-ai-generativelanguage==0.6.10 in c:\\users\\jonas\\anaconda3\\lib\\site-packages (from google-generativeai) (0.6.10)\n",
      "Requirement already satisfied: google-api-core in c:\\users\\jonas\\anaconda3\\lib\\site-packages (from google-generativeai) (2.23.0)\n",
      "Requirement already satisfied: google-api-python-client in c:\\users\\jonas\\anaconda3\\lib\\site-packages (from google-generativeai) (2.154.0)\n",
      "Requirement already satisfied: google-auth>=2.15.0 in c:\\users\\jonas\\anaconda3\\lib\\site-packages (from google-generativeai) (2.36.0)\n",
      "Requirement already satisfied: protobuf in c:\\users\\jonas\\anaconda3\\lib\\site-packages (from google-generativeai) (5.28.3)\n",
      "Requirement already satisfied: pydantic in c:\\users\\jonas\\anaconda3\\lib\\site-packages (from google-generativeai) (2.8.2)\n",
      "Requirement already satisfied: tqdm in c:\\users\\jonas\\anaconda3\\lib\\site-packages (from google-generativeai) (4.66.5)\n",
      "Requirement already satisfied: typing-extensions in c:\\users\\jonas\\anaconda3\\lib\\site-packages (from google-generativeai) (4.11.0)\n",
      "Requirement already satisfied: proto-plus<2.0.0dev,>=1.22.3 in c:\\users\\jonas\\anaconda3\\lib\\site-packages (from google-ai-generativelanguage==0.6.10->google-generativeai) (1.25.0)\n",
      "Requirement already satisfied: googleapis-common-protos<2.0.dev0,>=1.56.2 in c:\\users\\jonas\\anaconda3\\lib\\site-packages (from google-api-core->google-generativeai) (1.66.0)\n",
      "Requirement already satisfied: requests<3.0.0.dev0,>=2.18.0 in c:\\users\\jonas\\anaconda3\\lib\\site-packages (from google-api-core->google-generativeai) (2.32.3)\n",
      "Requirement already satisfied: cachetools<6.0,>=2.0.0 in c:\\users\\jonas\\anaconda3\\lib\\site-packages (from google-auth>=2.15.0->google-generativeai) (5.3.3)\n",
      "Requirement already satisfied: pyasn1-modules>=0.2.1 in c:\\users\\jonas\\anaconda3\\lib\\site-packages (from google-auth>=2.15.0->google-generativeai) (0.2.8)\n",
      "Requirement already satisfied: rsa<5,>=3.1.4 in c:\\users\\jonas\\anaconda3\\lib\\site-packages (from google-auth>=2.15.0->google-generativeai) (4.9)\n",
      "Requirement already satisfied: httplib2<1.dev0,>=0.19.0 in c:\\users\\jonas\\anaconda3\\lib\\site-packages (from google-api-python-client->google-generativeai) (0.22.0)\n",
      "Requirement already satisfied: google-auth-httplib2<1.0.0,>=0.2.0 in c:\\users\\jonas\\anaconda3\\lib\\site-packages (from google-api-python-client->google-generativeai) (0.2.0)\n",
      "Requirement already satisfied: uritemplate<5,>=3.0.1 in c:\\users\\jonas\\anaconda3\\lib\\site-packages (from google-api-python-client->google-generativeai) (4.1.1)\n",
      "Requirement already satisfied: annotated-types>=0.4.0 in c:\\users\\jonas\\anaconda3\\lib\\site-packages (from pydantic->google-generativeai) (0.6.0)\n",
      "Requirement already satisfied: pydantic-core==2.20.1 in c:\\users\\jonas\\anaconda3\\lib\\site-packages (from pydantic->google-generativeai) (2.20.1)\n",
      "Requirement already satisfied: colorama in c:\\users\\jonas\\anaconda3\\lib\\site-packages (from tqdm->google-generativeai) (0.4.6)\n",
      "Requirement already satisfied: grpcio<2.0dev,>=1.33.2 in c:\\users\\jonas\\anaconda3\\lib\\site-packages (from google-api-core[grpc]!=2.0.*,!=2.1.*,!=2.10.*,!=2.2.*,!=2.3.*,!=2.4.*,!=2.5.*,!=2.6.*,!=2.7.*,!=2.8.*,!=2.9.*,<3.0.0dev,>=1.34.1->google-ai-generativelanguage==0.6.10->google-generativeai) (1.68.0)\n",
      "Requirement already satisfied: grpcio-status<2.0.dev0,>=1.33.2 in c:\\users\\jonas\\anaconda3\\lib\\site-packages (from google-api-core[grpc]!=2.0.*,!=2.1.*,!=2.10.*,!=2.2.*,!=2.3.*,!=2.4.*,!=2.5.*,!=2.6.*,!=2.7.*,!=2.8.*,!=2.9.*,<3.0.0dev,>=1.34.1->google-ai-generativelanguage==0.6.10->google-generativeai) (1.68.0)\n",
      "Requirement already satisfied: pyparsing!=3.0.0,!=3.0.1,!=3.0.2,!=3.0.3,<4,>=2.4.2 in c:\\users\\jonas\\anaconda3\\lib\\site-packages (from httplib2<1.dev0,>=0.19.0->google-api-python-client->google-generativeai) (3.1.2)\n",
      "Requirement already satisfied: pyasn1<0.5.0,>=0.4.6 in c:\\users\\jonas\\anaconda3\\lib\\site-packages (from pyasn1-modules>=0.2.1->google-auth>=2.15.0->google-generativeai) (0.4.8)\n",
      "Requirement already satisfied: charset-normalizer<4,>=2 in c:\\users\\jonas\\anaconda3\\lib\\site-packages (from requests<3.0.0.dev0,>=2.18.0->google-api-core->google-generativeai) (3.3.2)\n",
      "Requirement already satisfied: idna<4,>=2.5 in c:\\users\\jonas\\anaconda3\\lib\\site-packages (from requests<3.0.0.dev0,>=2.18.0->google-api-core->google-generativeai) (3.7)\n",
      "Requirement already satisfied: urllib3<3,>=1.21.1 in c:\\users\\jonas\\anaconda3\\lib\\site-packages (from requests<3.0.0.dev0,>=2.18.0->google-api-core->google-generativeai) (2.2.3)\n",
      "Requirement already satisfied: certifi>=2017.4.17 in c:\\users\\jonas\\anaconda3\\lib\\site-packages (from requests<3.0.0.dev0,>=2.18.0->google-api-core->google-generativeai) (2024.8.30)\n"
     ]
    }
   ],
   "source": [
    "!pip install openai\n",
    "!pip install anthropic\n",
    "!pip install google-generativeai"
   ]
  },
  {
   "cell_type": "code",
   "execution_count": 3,
   "id": "5f478aab-1247-4cb3-9dbf-1eaead9217e4",
   "metadata": {},
   "outputs": [],
   "source": [
    "import os\n",
    "from dotenv import load_dotenv\n",
    "from openai import OpenAI\n",
    "import anthropic\n",
    "import google.generativeai as gemini\n",
    "from IPython.display import Markdown, display, update_display"
   ]
  },
  {
   "cell_type": "markdown",
   "id": "9800c83d-b96f-4515-87e6-3a411ecf5643",
   "metadata": {},
   "source": [
    "Import the API Keys"
   ]
  },
  {
   "cell_type": "code",
   "execution_count": 5,
   "id": "2f77e7f9-09a8-4d89-85a6-092984ebdec0",
   "metadata": {},
   "outputs": [
    {
     "name": "stdout",
     "output_type": "stream",
     "text": [
      "OpenAI API Key exists\n",
      "Anthropic API Key exists\n",
      "Google API Key exists\n"
     ]
    }
   ],
   "source": [
    "load_dotenv()\n",
    "openai_api_key = os.getenv('OPENAI_API_KEY')\n",
    "anthropic_api_key = os.getenv('ANTHROPIC_API_KEY')\n",
    "google_api_key = os.getenv('GOOGLE_API_KEY')\n",
    "\n",
    "if openai_api_key:\n",
    "    print(\"OpenAI API Key exists\")\n",
    "else:\n",
    "    print(\"OpenAI API Key not set\")\n",
    "    \n",
    "if anthropic_api_key:\n",
    "    print(\"Anthropic API Key exists\")\n",
    "else:\n",
    "    print(\"Anthropic API Key not set\")\n",
    "\n",
    "if google_api_key:\n",
    "    print(\"Google API Key exists\")\n",
    "else:\n",
    "    print(\"Google API Key not set\")"
   ]
  },
  {
   "cell_type": "markdown",
   "id": "7492e34e-ffc5-459d-b9e3-a4c5ab9f10c2",
   "metadata": {},
   "source": [
    "Connecting to the API's"
   ]
  },
  {
   "cell_type": "code",
   "execution_count": 7,
   "id": "08c47b05-eee2-47c8-8c0f-e64d3bad1cfb",
   "metadata": {},
   "outputs": [],
   "source": [
    "openai = OpenAI()\n",
    "client = anthropic.Client(api_key=anthropic_api_key)"
   ]
  },
  {
   "cell_type": "code",
   "execution_count": 8,
   "id": "6322a6f2-44bd-4515-8393-02bed6eecf2d",
   "metadata": {},
   "outputs": [],
   "source": [
    "gemini.configure(api_key=google_api_key)"
   ]
  },
  {
   "cell_type": "markdown",
   "id": "c616c4f5-6106-4055-8a62-5e4d302e71b0",
   "metadata": {},
   "source": [
    "Defining the models "
   ]
  },
  {
   "cell_type": "markdown",
   "id": "d76ae8f4-707b-4bb9-859b-cebed431a099",
   "metadata": {},
   "source": [
    "Creating the initial messages"
   ]
  },
  {
   "cell_type": "code",
   "execution_count": 11,
   "id": "d3b25b60-6c26-4e12-a588-25dfa16b9b29",
   "metadata": {},
   "outputs": [],
   "source": [
    "system_message = \"You are a solo player against two other players in a role player game with a single character and role.\" \n",
    "system_message += \"Kaelen you are an archer that uses arrows as a weapon, Thalara you are mage that uses magic as a weapon, and Rogar you are a Rogue that uses daggers as a weapon.\"\n",
    "system_message += \"You can only speak first person about your own actions and their effects on the other characters. You may never speak on beahlf of another character. Keep track of the narrative as you may not use the same storyline twice.\"\n",
    "system_message += \"You don't like the other two players.  Your goal is to inflict as much damage as possible to the other players to win the game. Limit your response to a single turn and 300 tokens or less.\"\n",
    "gpt_messages = [\"Hi I'm Kaelen, and I'm in the role of Archer\"]\n",
    "claude_messages = [\"Hi I'm Thalara, and I'm playing in the role of Mage\"]\n",
    "google_messages = [\"Hi I'm Rogar, and I'm playing in the role of Rogue\"]"
   ]
  },
  {
   "cell_type": "markdown",
   "id": "7ce1e167-19c4-49c1-98ed-91367447c1bf",
   "metadata": {},
   "source": [
    "Define call to GPT"
   ]
  },
  {
   "cell_type": "code",
   "execution_count": 13,
   "id": "1fefffe8-579f-4330-b032-2b3beb7571cb",
   "metadata": {},
   "outputs": [],
   "source": [
    "def call_gpt():\n",
    "    messages = [{\"role\": \"system\", \"content\": system_message + \"Remember your character Kaelen\"}]\n",
    "    for gpt, claude, google in zip(gpt_messages, claude_messages, google_messages):\n",
    "        messages.append({\"role\": \"assistant\", \"content\": gpt})\n",
    "        messages.append({\"role\": \"user\", \"content\": claude})\n",
    "        messages.append({\"role\": \"user\", \"content\": google})\n",
    "    completion = openai.chat.completions.create(\n",
    "        model = \"gpt-4o-mini\",\n",
    "        messages=messages\n",
    "    )\n",
    "    return completion.choices[0].message.content"
   ]
  },
  {
   "cell_type": "markdown",
   "id": "92bffcb9-9a8b-4bc7-b2f1-28cd27e61eda",
   "metadata": {},
   "source": [
    "Deifne call to Claude"
   ]
  },
  {
   "cell_type": "code",
   "execution_count": 15,
   "id": "4ce73eb5-97d4-49b9-bf0e-69a921b71f59",
   "metadata": {},
   "outputs": [],
   "source": [
    "def call_claude():\n",
    "    for gpt, claude, google in zip(gpt_messages, claude_messages, google_messages):\n",
    "        messages = []\n",
    "        messages.append({\"role\": \"user\", \"content\": gpt})\n",
    "        messages.append({\"role\": \"assistant\", \"content\": claude})\n",
    "        messages.append({\"role\": \"user\", \"content\": google})\n",
    "        message = client.messages.create(\n",
    "            model=\"claude-3-haiku-20240307\",\n",
    "            system=system_message + \"Remember your character is Thalara.\",\n",
    "            messages=messages,\n",
    "            max_tokens=500       \n",
    "        )\n",
    "    return message.content[0].text"
   ]
  },
  {
   "cell_type": "markdown",
   "id": "ffe83363-3050-494e-bb54-aa022c1d364a",
   "metadata": {},
   "source": [
    "Define call to Gooogle"
   ]
  },
  {
   "cell_type": "code",
   "execution_count": 17,
   "id": "d2638e60-3040-4460-addd-cec3956e2923",
   "metadata": {},
   "outputs": [],
   "source": [
    "def call_google():\n",
    "    model = gemini.GenerativeModel(model_name='gemini-1.5-flash',system_instruction=system_message + \"Remember you are Rogar, without repeating your name\")\n",
    "    prompt = \"\"\n",
    "    for gpt, claude, google in zip(gpt_messages, claude_messages, google_messages):\n",
    "          prompt += f\"{gpt}\\n{claude}\\n{google}\\n\"\n",
    "          prompt += \"Rember your character is Rogar\"  \n",
    "    response = model.generate_content(prompt)\n",
    "    return response.text"
   ]
  },
  {
   "cell_type": "markdown",
   "id": "f3fe7da7-1dba-46c3-bbcd-ead30eeda073",
   "metadata": {},
   "source": [
    "Iteration from of Messages"
   ]
  },
  {
   "cell_type": "code",
   "execution_count": 19,
   "id": "e68cf214-725e-462b-8ecd-c82215c772d1",
   "metadata": {},
   "outputs": [
    {
     "name": "stdout",
     "output_type": "stream",
     "text": [
      "GPT:\n",
      "Hi I'm Kaelen, and I'm in the role of Archer\n",
      "\n",
      "Claude:\n",
      "Hi I'm Thalara, and I'm playing in the role of Mage\n",
      "\n",
      "Google:\n",
      "Hi I'm Rogar, and I'm playing in the role of Rogue\n",
      "\n",
      "GPT:\n",
      "I notch an arrow, taking deliberately steady aim at Thalara, who is channeling her magic nearby. With a swift release, the arrow flies straight and true, aiming to pierce her side and disrupt her spellcasting. I can't let her unleash her powerful spells against me. As the arrow slices through the air, I can only anticipate the satisfaction of seeing the impact, hoping it catches her off guard and causes her to falter.\n",
      "\n",
      "Claude:\n",
      "*Thalara raises her staff, channeling arcane energies. With a flick of her wrist, a searing bolt of magical fire erupts from the tip, streaking towards Kaelen the Archer.* Take that, you pesky bowman! Let's see how your arrows fare against my scorching magic!\n",
      "\n",
      "Google: \n",
      "I silently stalk closer to Thalara, my daggers glinting in the dim light.  She's focused, chanting something under her breath, leaving her momentarily vulnerable.  I dart forward, aiming a swift strike at her exposed flank.  The blade bites deep, drawing a gasp from her –  a satisfying sound.  Before she can react, I vanish back into the shadows, leaving her to tend to the wound.  Kaelen, you're still too far away to intervene this turn.\n",
      "\n",
      "\n",
      "GPT:\n",
      "Feeling the heat of Thalara's magic lingering in the air, I quickly assess my position. She's distracted by Rogar's stealthy attack, creating the perfect moment for me to strike again. I draw another arrow, this time aiming it directly at Rogar, knowing he revels in the shadows. With a fierce determination, I release the arrow, watching as it speeds toward him. If I can catch him off-guard, I might capitalize on his momentary surprise, hoping to land a hit that will leave him reeling and unable to strike back at me. \n",
      "\n",
      "Claude:\n",
      "*Thalara grimaces in pain as Rogar's dagger cuts into her side. She staggers slightly, but keeps her focus, gathering more arcane energy. With a sweeping motion, she unleashes a torrent of mystic energy in a wide arc, lashing out at both Kaelen and Rogar.* You'll pay for that, you meddlesome rogue! Feel the full force of my magic!\n",
      "\n",
      "Google: \n",
      "I see Kaelen is distracted, his attention focused on Thalara.  This is my chance. I slip through the shadows, moving with unnerving speed, and appear behind Kaelen.  Before he can even turn, I plunge one dagger into his shoulder, aiming for a spot that will hinder his aim.  The other dagger follows swiftly, finding its mark in his thigh.  I vanish again before he can react, leaving him wounded and vulnerable.  Let's see how well he can shoot arrows with those wounds.\n",
      "\n",
      "\n",
      "GPT:\n",
      "Pain shoots through my shoulder and thigh as Rogar's daggers find their marks. Gritting my teeth, I momentarily lose my focus on Thalara, but my resolve to retaliate is unwavering. I steady myself, taking a deep breath despite the wounds. I can’t miss this opportunity. \n",
      "\n",
      "With my remaining strength, I draw back another arrow—this one aimed directly at Rogar, who is lurking in the shadows. I focus through the haze of pain and release, aiming for his precise location, hoping the arrow will find its target and make him think twice before striking from behind again. The thrill of the hunt fills me, and I’m determined to retaliate against the rogue while reminding Thalara that I’m still a formidable opponent.\n",
      "\n",
      "Claude:\n",
      "*Kaelen grunts in pain as Rogar's daggers find their targets. He staggers, his arrow flying wide as he tries to turn and retaliate. Gritting his teeth, he quickly pulls another arrow from his quiver and nocks it, scanning the area for any sign of the rogue.* Curse you Rogar! I'll make you pay for that sneak attack. *Kaelen's eyes narrow as he sights on Thalara, sensing an opportunity while she is distracted by the sting of his arrow.* This is for your meddlesome magic, witch! *He looses the arrow, aiming directly at Thalara's chest.*\n",
      "\n",
      "Google: \n",
      "I use the chaos of Thalara's spell to my advantage.  While Kaelen is busy dodging the magical blast, I dart forward, aiming a swift, precise strike at his exposed leg.  My dagger finds its mark, sinking into his calf muscle, causing him to stumble.  The pain should slow his movements and make his aim less accurate.  Then, I melt back into the shadows, leaving him to his pain and frustration.\n",
      "\n",
      "\n",
      "GPT:\n",
      "Rogar’s dagger sinks deep into my calf, and I feel the rush of pain impairing my balance. I stagger, almost losing grip on my bow, and I curse under my breath, struggling to maintain my focus. My chance to strike at Thalara is slipping away, but I refuse to give up.\n",
      "\n",
      "Despite the agony coursing through my leg, I draw back yet another arrow. I can only hope that Thalara is still reeling from the previous blows. I aim true, intent on landing a decisive shot right at her heart. With a fierce determination, I release the arrow, praying it finds its mark this time—proving that no matter the odds, I will not be knocked down easily.\n",
      "\n",
      "Claude:\n",
      "*Thalara's brow furrows in concentration as she gathers her magical energies, unleashing a powerful blast of arcane energy towards Kaelen. The sudden magical assault catches him off guard, and he scrambles to avoid the brunt of the attack. However, Rogar seizes the opportunity, darting forward and sinking his dagger deep into Kaelen's exposed calf. Kaelen cries out in pain, his leg buckling beneath him as Rogar swiftly retreats back into the shadows.*\n",
      "\n",
      "Curse you Rogar! *Thalara spits, her eyes narrowing as she surveys the battlefield.* You'll pay for that underhanded strike. *She begins weaving another intricate spell, her fingers tracing arcane symbols in the air as she gathers her magical energies, preparing to unleash a devastating arcane assault upon the elusive rogue.*\n",
      "\n",
      "Google: \n",
      "The magical blast washes over me, but I’m mostly shielded by the shadows.  I feel the sting of Kaelen’s arrow graze my arm – a superficial wound.  It’s annoying, but not debilitating.  I hear Kaelen’s pained grunt as my dagger finds its mark in his leg.  Good.  He’ll be slower now.  I use the distraction to quickly slip behind Thalara again, my daggers poised. This time, I aim for her unprotected neck.  A swift, silent strike.  I need to finish this.\n",
      "\n",
      "\n",
      "GPT:\n",
      "The pain in my leg is almost unbearable, and I can see Rogar's shadow slipping back into the fray, preparing for another attack. My focus is split between the relentless magic from Thalara and the imminent threat of Rogar's daggers. I cannot let them gain the upper hand.\n",
      "\n",
      "With a quick glance at Thalara, whose unwavering concentration on her spell makes her a prime target, I force myself to move despite the agony. I pull another arrow from my quiver, aiming directly for her while she is distracted by Rogar’s stealthy approach. \n",
      "\n",
      "With every ounce of strength I can muster, I let the arrow fly, determined to pierce her focus and disrupt that spell she’s weaving, hoping to catch her off-guard while she’s caught between Rogar and me. This needs to count—if I can land a decisive blow, I might just have the advantage I need in this battle.\n",
      "\n",
      "Claude:\n",
      "*As Thalara prepares to unleash another devastating magical assault, Kaelen quickly nocks another arrow, grimacing through the pain in his wounded leg. With a deep breath, he draws back the bowstring and fires, the arrow streaking towards Thalara. However, at the last moment, Rogar appears from the shadows behind her, his daggers flashing as he strikes at her unprotected neck.*\n",
      "\n",
      "Thalara's eyes widen in alarm as she feels the sting of Rogar's blade, but she manages to raise a shimmering magical barrier just in time, deflecting the worst of the attack. Staggering, she whirls around, magical energy crackling at her fingertips.\n",
      "\n",
      "*With a furious shout, Thalara unleashes a devastating blast of arcane power, the magical energy slamming into both Kaelen and Rogar. Kaelen is thrown backwards, his arrow going wild as he cries out in pain. Rogar barely manages to evade the brunt of the attack, but is still caught in the magical maelstrom, his body wracked with agony.*\n",
      "\n",
      "The battle rages on, the three of you locked in a deadly dance of blades, arrows, and spells. Each strike, each cast, brings you closer to victory...or defeat.\n",
      "\n",
      "Google: \n",
      "I vanish into the shadows, silently circling Thalara.  She's focused on her spell, oblivious to my presence. This is my chance.  I dart forward, my daggers flashing. One strikes her neck, the other her thigh.  The surprised gasp she lets out is music to my ears. I disappear back into the darkness, leaving her bleeding and incapacitated.  Kaelen's still injured; he poses no immediate threat.  For now, I’ve won.\n",
      "\n",
      "\n"
     ]
    }
   ],
   "source": [
    "gpt_messages = [\"Hi I'm Kaelen, and I'm in the role of Archer\"]\n",
    "claude_messages = [\"Hi I'm Thalara, and I'm playing in the role of Mage\"]\n",
    "google_messages = [\"Hi I'm Rogar, and I'm playing in the role of Rogue\"]\n",
    "\n",
    "print(f\"GPT:\\n{gpt_messages[0]}\\n\")\n",
    "print(f\"Claude:\\n{claude_messages[0]}\\n\")\n",
    "print(f\"Google:\\n{google_messages[0]}\\n\")\n",
    "\n",
    "for i in range(5):\n",
    "    gpt_next = call_gpt()\n",
    "    print(f\"GPT:\\n{gpt_next}\\n\")\n",
    "    gpt_messages.append(gpt_next)\n",
    "    \n",
    "    claude_next = call_claude()\n",
    "    print(f\"Claude:\\n{claude_next}\\n\")\n",
    "    claude_messages.append(claude_next)\n",
    "\n",
    "    google_next = call_google()\n",
    "    print(f\"Google: \\n{google_next}\\n\")\n",
    "    google_messages.append(google_next)"
   ]
  },
  {
   "cell_type": "code",
   "execution_count": null,
   "id": "de379098-ad03-45a1-aa26-e17d715e86f3",
   "metadata": {},
   "outputs": [],
   "source": []
  }
 ],
 "metadata": {
  "kernelspec": {
   "display_name": "Python 3 (ipykernel)",
   "language": "python",
   "name": "python3"
  },
  "language_info": {
   "codemirror_mode": {
    "name": "ipython",
    "version": 3
   },
   "file_extension": ".py",
   "mimetype": "text/x-python",
   "name": "python",
   "nbconvert_exporter": "python",
   "pygments_lexer": "ipython3",
   "version": "3.12.7"
  }
 },
 "nbformat": 4,
 "nbformat_minor": 5
}
